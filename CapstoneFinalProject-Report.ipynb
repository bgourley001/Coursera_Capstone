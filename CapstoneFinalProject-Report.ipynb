{
 "cells": [
  {
   "cell_type": "markdown",
   "metadata": {},
   "source": [
    "# Applied Data Science : Capstone Final Project"
   ]
  },
  {
   "cell_type": "markdown",
   "metadata": {},
   "source": [
    "## Battle Of The Neighborhoods\n",
    "\n",
    "### Author : Bill Gourley\n",
    "### Date     : 23rd December 2018"
   ]
  },
  {
   "cell_type": "markdown",
   "metadata": {},
   "source": [
    "\n",
    "#### Introduction/Problem Description\n",
    "\n",
    "As the image below shows, Tourism plays an important part in the overall Irish Economy. It is vital, therefore, for any business or individual involved in the industry or wishing to create a new business to service the industry, to have access to demographic data in a timely and interactive manner.\n",
    "\n",
    "The stakeholders of this project, the Irish Tourism Industry Confederation, have commissioned a report and software application that utilizes geospatial and demographic social data to illustrate the major categories of existing facilities and venues for counties and major cities in Ireland. This report will then be used by the Confederation as a basis for informing government and other agencies of the facilties and services which could be added or expanded in varous counties and cities to attract tourists and therefore enhance industry profitability."
   ]
  },
  {
   "cell_type": "markdown",
   "metadata": {},
   "source": [
    "![title](tourism_impact.jpg)"
   ]
  },
  {
   "cell_type": "markdown",
   "metadata": {},
   "source": [
    "This report uses a Python Notebook application to :\n",
    "\n",
    "    * obtain geospatial data on the counties and major Irish cities,\n",
    "    * obtain demographic data from the Foursquare API application from geospatial data,\n",
    "    * produce a summary report of the major venue categories, by county and major city."
   ]
  },
  {
   "cell_type": "markdown",
   "metadata": {},
   "source": [
    "#### Data\n",
    "\n",
    "    * Geospatial Data : https://www.citypopulation.de/php/ireland.php\n",
    "\n",
    "The geospatial data contains the county/city name together with a status column and multiple census data columns. For this exercise only the name column will be used. The names are subsequently used to obtain the latitude and longitude values of the location. An example of the data is shown below.\n",
    "    \n",
    "   ![geo_data](geo_data.jpg)\n",
    "    \n",
    "    * Demographic Venue Data : Foursquare API\n",
    "    \n",
    "An example of the Demographic Venue Data retrieved from Foursquare is shown below. This data is subsequently analyzed to summarize the venue categories into 7 major categories using a combination of value mapping and clustering.\n",
    "\n",
    "   ![venue_data](foursquare_data.jpg)"
   ]
  },
  {
   "cell_type": "markdown",
   "metadata": {},
   "source": [
    "#### Methodology\n",
    "\n",
    "    * Exploratory Data Analysis : \n",
    "    \n",
    "For this project, the data obtained from the 2 sources detailed above required very little in the way of Exploratory Data Analysis. There were no missing values to deal with and the data was obtained cleanly in table format. The data table obtained for the county information included population census data columns which were removed as they were not required for the current project.\n",
    "\n",
    "    * Inferential Statistics :\n",
    "    \n",
    "The end goal of this project was not to provide predictive analytics capabilities, but rather to use the data obtained to gain insight and produce a report with recommendations to the stakeholders. As such, there is no target variable. Therefore there was no need to perform inferential statistical analysis.\n",
    "\n",
    "    * Machine Learning Algorithms\n",
    "    \n",
    "To reduce the number of individual Foursquare venue categories (138) to a manageable number of Major Venue Categories (9), a combination of manual value mapping and machine learning clustering was used. The clustering algorithm used was hdbscan which was preferred over kmeans for two main reasons : (1) a fixed number of clusters does not have to be provided, and (2) hdbscan clusters by density rather than partitioning the data thus producing a more consistent and stable set of clusters.\n",
    "\n",
    "The final set of Major Venue Categories produced was :\n",
    "\n",
    "    0 : Services\n",
    "    1 : Entertainment\n",
    "    2 : Transport\n",
    "    3 : Accomodation\n",
    "    4 : Shopping\n",
    "    5 : Bar\n",
    "    6 : Fast Food\n",
    "    7 : Cultural\n",
    "    8 : Restaurant\n",
    "\n",
    "    * Results Methods :\n",
    "    \n",
    "(1) The Major venue categories listed above were grouped by category and a total sum and global mean was calculated for each category.\n",
    "\n",
    "(2) The categories were summed for each neighborhood and a neighborhood mean was calculated for each category.\n",
    "\n",
    "(3) The neighborhood means were then subracted from the global means to produce a list of differences between each neighborhood category and the global mean for that category.\n",
    "\n",
    "(4) Negative differences indicate areas which could be added to the neighborhood to improve the attractiveness of the neighborhood to tourists and locals alike, therefore increasing footfall and profitability.\n",
    "\n",
    "(5) Positive differences indicate areas which could be used as focus points for advertising strengths of particular neighborhoods.\n"
   ]
  },
  {
   "attachments": {},
   "cell_type": "markdown",
   "metadata": {},
   "source": [
    "#### Results\n",
    "\n",
    "After mapping and clustering, the quantity and global means of the 9 Major Venue Categories are as shown below: \n",
    "\n",
    "![title](majorCategory_globalMeans.jpg)\n",
    "\n",
    "The venues dataframe after clustering is as shown in the example below. Note that 1 has been added to the cluster numbering to facilitate easier interpretation.\n",
    "\n",
    "![title](dataframe_clusters.jpg)\n",
    "\n",
    "The neighborhood means for each Major Venue Category is as shown below:\n",
    "\n",
    "![title](neighborhood_means.jpg)\n",
    "\n",
    "The differences in the neighborhood means and the global means for each Major Venue  Category when grouped by neighborhood is as shown below:\n",
    "\n",
    "![title](mean_differences.jpg)\n",
    "\n",
    "Note : Although data has been processed for all 31 neighborhoods in the counties dataframe, to keep the report short, final results for 4 neighborhoods only are shown and discussed below. The methods used, however, apply equally to all neighborhoods.\n",
    "\n",
    "The neighborhoods selected for illustration are Carlow, Waterford, Kilkenny and Limerick. \n",
    "\n",
    "Bar graphs illustrating the perentage differences for eacxh major category are shown below. Blue bars indicate that the neighborhood has more of this category than the global mean, red bars indicate the the neighborhood has less of this category than the global mean.\n",
    "\n",
    "![title](neighborhood_graphs.jpg)\n",
    "\n",
    "#### Results Analysis\n",
    "\n",
    "The results and map displays obtained for the 4 neighborhoods illustrated can be summarized as follows:\n",
    "\n",
    "##### Carlow\n",
    "    * With approximately 12% more venues than the global mean, Shopping would be a good potential selling point for Carlow.\n",
    "    * The other categories are more or less on a par with the global mean, although with approximately 1% to 2% less venues than the global mean, the quantity of Restaurants, Fast Food Outlets and Bars could be increased by a small amount.\n",
    "\n",
    "![title](map_carlow.jpg)\n",
    "\n",
    "##### Waterford\n",
    "    * With approximately 8% and 5% more venues respectively than the global mean, Cultural Venues and Accomodation would be good selling points for Waterford.\n",
    "    * Shopping venues and Bars with 2% and 10% less venues respectively than the global mean could be areas which could be improved upon.\n",
    "\n",
    "![title](map_waterford.jpg)\n",
    "\n",
    "##### Kilkenny\n",
    "    * Overall Kilkenny fares well when compared to the global mean in most categories.\n",
    "    * Areas which could be used as selling points are Cultural and Bars with approximately 2% to 3% more venues than the global mean.\n",
    "    * Areas which could be improved slightly with 2% and 5% less venues respectively than the global mean are Restaurants and Fast Food venues.\n",
    "\n",
    "![title](map_kilkenny.jpg)\n",
    "\n",
    "##### Limerick\n",
    "    * Overall Limerick fares well when compared to the global mean in most categories.\n",
    "    * Areas which could be used as selling points are Restaurants and Bars with approximately 2% to 3% more vemnues than the global mean.\n",
    "    * Areas which could be improved upon are Shopping, Cultural and Entertainment venues.\n",
    "    \n",
    "![title](map_limerick.jpg)"
   ]
  },
  {
   "cell_type": "markdown",
   "metadata": {},
   "source": [
    "#### Discussion\n",
    "\n",
    "##### Limitations of Available Data\n",
    "\n",
    "Applications such as this one depend almost exclusively on data, the more relevant the data available the better the results. For this project we have only used one source of social demographic data, ie, from Foursquare, therefore the results obtained depend entirely on the data present within the Foursquare databases. This is particularly obvious in the lack of results obtained for more rural areas, it seems that the majority of Foursquare users concentrate on venues within urban areas. To get a more conclusive and accurate result, I would suggest that as many similar data sources be used as possible from applications such as TripSavvy, Booking.com, TripAdvisor etc. This would ensure that we have data from as widespread a geographical and demographic area as possible.\n",
    "\n",
    "##### Further Steps\n",
    "\n",
    "The application could be extended in a number of areas, a few examples are:\n",
    "\n",
    "    (1) Retain and report on the sub-categories contained within the Major Categories to provide a more refined result.\n",
    "    \n",
    "    (2) Add an input interface to allow users to specify locations interactively.\n",
    "    \n",
    "    (3) Allow users to buiold custom queries, eg. to explore by category and location.\n",
    "    \n",
    "    (4) Proitability functionality could be added by adding footfall and profit data.\n",
    "    \n",
    "    (5) Predicting profitablilty by utilizing Machine Learning to predict footfall by location and category, then extrapolating profitability."
   ]
  },
  {
   "cell_type": "markdown",
   "metadata": {},
   "source": [
    "#### Conclusion\n",
    "\n",
    "Although the application only uses one source of data, the results show that the methodology used is sound and valid and thus the application could form a major part of any decision making process by the Irish Tourism Industry Confederation involving geographic and demographic data."
   ]
  },
  {
   "cell_type": "markdown",
   "metadata": {},
   "source": [
    "#### References \n",
    "\n",
    "Impact of Tourism on the Irish Economy : https://www.itic.ie/the-impact-of-tourism-on-the-irish-economy/\n",
    "\n",
    "Adding Legend to Folium Maps : https://tilemill-project.github.io/tilemill/docs/guides/advanced-legends/"
   ]
  }
 ],
 "metadata": {
  "kernelspec": {
   "display_name": "Python 3",
   "language": "python",
   "name": "python3"
  },
  "language_info": {
   "codemirror_mode": {
    "name": "ipython",
    "version": 3
   },
   "file_extension": ".py",
   "mimetype": "text/x-python",
   "name": "python",
   "nbconvert_exporter": "python",
   "pygments_lexer": "ipython3",
   "version": "3.7.0"
  }
 },
 "nbformat": 4,
 "nbformat_minor": 2
}
