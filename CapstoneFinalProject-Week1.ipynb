{
 "cells": [
  {
   "cell_type": "markdown",
   "metadata": {},
   "source": [
    "# Applied Data Science : Capstone Final Project"
   ]
  },
  {
   "cell_type": "markdown",
   "metadata": {},
   "source": [
    "## Battle Of The Neighborhoods\n",
    "\n",
    "### Author : Bill Gourley\n",
    "### Date     : 16th December 2018"
   ]
  },
  {
   "cell_type": "markdown",
   "metadata": {},
   "source": [
    "\n",
    "#### Problem Description and Context Background\n",
    "\n",
    "As the image below shows, Tourism plays an important part in the overall Irish Economy. It is vital, therefore, for any business or individual involved in the industry or wishing to create a new business to service the industry, to have access to demographic data in a timely and interactive manner.\n",
    "\n",
    "The stakeholders of this project, the Irish Tourism Industry Confederation, have commissioned a report and software application that utilizes geospatial and demographic social data to illustrate the major categories of existing facilities and venues for counties and major cities in Ireland. This report will then be used by the Confederation as a basis for informing government and other agencies of the facilties and services which could be added or expanded in varous counties and cities to attract tourists and therefore enhance industry profitability."
   ]
  },
  {
   "cell_type": "markdown",
   "metadata": {},
   "source": [
    "![title](tourism_impact.jpg)"
   ]
  },
  {
   "cell_type": "markdown",
   "metadata": {},
   "source": [
    "This report uses a Python Notebook application to :\n",
    "\n",
    "    * obtain geospatial data on the counties and major Irish cities,\n",
    "    * obtain demographic data from the Foursquare API application from geospatial data,\n",
    "    * produce a summary report of the major venue categories, by county and major city."
   ]
  },
  {
   "cell_type": "markdown",
   "metadata": {},
   "source": [
    "#### Data Sources\n",
    "\n",
    "    * Geospatial Data : https://www.citypopulation.de/php/ireland.php\n",
    "    * Demographic Venue Data : Foursquare API"
   ]
  },
  {
   "cell_type": "markdown",
   "metadata": {},
   "source": [
    "#### References \n",
    "\n",
    "Impact of Tourism on the Irish Economy : https://www.itic.ie/the-impact-of-tourism-on-the-irish-economy/"
   ]
  }
 ],
 "metadata": {
  "kernelspec": {
   "display_name": "Python 3",
   "language": "python",
   "name": "python3"
  },
  "language_info": {
   "codemirror_mode": {
    "name": "ipython",
    "version": 3
   },
   "file_extension": ".py",
   "mimetype": "text/x-python",
   "name": "python",
   "nbconvert_exporter": "python",
   "pygments_lexer": "ipython3",
   "version": "3.7.0"
  }
 },
 "nbformat": 4,
 "nbformat_minor": 2
}
